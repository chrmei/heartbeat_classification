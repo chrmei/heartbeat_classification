{
 "cells": [
  {
   "cell_type": "code",
   "execution_count": 1,
   "id": "b0840d64-8d86-4a9f-96ee-3ebcae41b2c7",
   "metadata": {},
   "outputs": [],
   "source": [
    "import numpy as np\n",
    "import pandas as pd\n",
    "import xgboost as xgb\n",
    "import time\n",
    "%matplotlib inline\n",
    "import matplotlib.pyplot as plt\n",
    "from sklearn import linear_model\n",
    "from sklearn import preprocessing\n",
    "from sklearn.model_selection import train_test_split\n",
    "from sklearn.metrics import roc_curve, auc\n",
    "from sklearn import svm\n",
    "from sklearn import neighbors\n",
    "from sklearn.tree import DecisionTreeClassifier\n",
    "from sklearn import ensemble\n",
    "from sklearn import model_selection\n",
    "from sklearn.neural_network import MLPClassifier\n",
    "from sklearn.metrics import confusion_matrix, accuracy_score, precision_score, recall_score, f1_score, classification_report\n",
    "from sklearn.discriminant_analysis import LinearDiscriminantAnalysis\n",
    "from sklearn.model_selection import RandomizedSearchCV, StratifiedKFold\n",
    "from imblearn.over_sampling import RandomOverSampler, SMOTE\n",
    "from scipy.stats import uniform\n",
    "import skops.io as sio"
   ]
  },
  {
   "cell_type": "code",
   "execution_count": 2,
   "id": "7aeb8748-d9a8-4f22-9d3a-45b443f4e3d0",
   "metadata": {},
   "outputs": [
    {
     "name": "stdout",
     "output_type": "stream",
     "text": [
      "number of duplicates in combined dataframe:  0\n"
     ]
    }
   ],
   "source": [
    "#import PTB data and display head\n",
    "df_ptbdb_normal = pd.read_csv('../data/original/ptbdb_normal.csv', header = None)\n",
    "df_ptbdb_abnormal = pd.read_csv('../data/original/ptbdb_abnormal.csv', header = None)\n",
    "\n",
    "#concatenate dataframes\n",
    "df_ptbdb = pd.concat([df_ptbdb_normal, df_ptbdb_abnormal], axis=0, ignore_index=True)\n",
    "\n",
    "#delete duplicates\n",
    "df_ptbdb.drop_duplicates(inplace=True)\n",
    "print('number of duplicates in combined dataframe: ', df_ptbdb.duplicated().sum())\n",
    "\n",
    "#ptb data and target\n",
    "df_ptbdb_data = df_ptbdb.drop(187, axis = 1)\n",
    "df_ptbdb_target = df_ptbdb[187]"
   ]
  },
  {
   "cell_type": "code",
   "execution_count": 3,
   "id": "8c288e16-9303-4fe0-aa13-76869b32a107",
   "metadata": {},
   "outputs": [],
   "source": [
    "#load model\n",
    "model = sio.load('best_easy_models/svm_best_model_cv_nsplits5_randomsearch_niter10.skops')"
   ]
  },
  {
   "cell_type": "code",
   "execution_count": 4,
   "id": "d0753adc-a465-4742-bb85-4171900e15e2",
   "metadata": {},
   "outputs": [
    {
     "name": "stdout",
     "output_type": "stream",
     "text": [
      "Predictions   0.0  1.0  2.0  3.0  4.0\n",
      "187                                  \n",
      "0.0          3920  111   14    0    0\n",
      "1.0          9809  199  222   31  239\n",
      "time: 18.11 seconds\n"
     ]
    }
   ],
   "source": [
    "start = time.time()\n",
    "\n",
    "#prediction on ptb data\n",
    "y_pred_ptb = model.predict(df_ptbdb_data)\n",
    "\n",
    "#crosstab for ptb target and y_pred_ptb\n",
    "print(pd.crosstab(df_ptbdb_target, y_pred_ptb, colnames=['Predictions']))\n",
    "\n",
    "end = time.time()\n",
    "\n",
    "print(f\"time: {end - start:.2f} seconds\")"
   ]
  },
  {
   "cell_type": "code",
   "execution_count": 5,
   "id": "a6cba480-7744-486d-9fee-ff60a41b7db1",
   "metadata": {},
   "outputs": [],
   "source": [
    "#save results in txt file\n",
    "with open(\"clf_svm_trainMIT_testPTB.txt\", \"w\") as file:\n",
    "    file.write(\"training data: MIT train dataset\\n\")\n",
    "    file.write(\"test data: PTB dataset\\n\")\n",
    "    file.write(\"clf = svm.SVC()\\n\")\n",
    "    file.write(\"parameters = {'kernel': 'rbf', 'gamma': 0,5, 'C': 10}\\n\")\n",
    "    file.write(\"\\nData augmentation for training: no\\n\")\n",
    "    file.write(\"\\nConfusion Matrix:\\n\")\n",
    "    file.write(str(pd.crosstab(df_ptbdb_target, y_pred_ptb, colnames=['Predictions'])))"
   ]
  },
  {
   "cell_type": "code",
   "execution_count": null,
   "id": "406c45d9-edb0-459b-bb18-accc009a3de0",
   "metadata": {},
   "outputs": [],
   "source": []
  }
 ],
 "metadata": {
  "kernelspec": {
   "display_name": "datascientest_project",
   "language": "python",
   "name": "datascientest_project"
  },
  "language_info": {
   "codemirror_mode": {
    "name": "ipython",
    "version": 3
   },
   "file_extension": ".py",
   "mimetype": "text/x-python",
   "name": "python",
   "nbconvert_exporter": "python",
   "pygments_lexer": "ipython3",
   "version": "3.12.11"
  }
 },
 "nbformat": 4,
 "nbformat_minor": 5
}
