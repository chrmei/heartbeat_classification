{
  "cells": [
    {
      "cell_type": "markdown",
      "metadata": {},
      "source": [
        "# Model Testing\n",
        "\n",
        "Questions to be answered:\n",
        "\n",
        "- Remove outliers?\n",
        "- Which Sampling method to use?\n"
      ]
    },
    {
      "cell_type": "markdown",
      "metadata": {},
      "source": [
        "## Imports"
      ]
    },
    {
      "cell_type": "code",
      "execution_count": 22,
      "metadata": {},
      "outputs": [
        {
          "ename": "ModuleNotFoundError",
          "evalue": "No module named 'src.utils.visualization'",
          "output_type": "error",
          "traceback": [
            "\u001b[31m---------------------------------------------------------------------------\u001b[39m",
            "\u001b[31mModuleNotFoundError\u001b[39m                       Traceback (most recent call last)",
            "\u001b[36mCell\u001b[39m\u001b[36m \u001b[39m\u001b[32mIn[22]\u001b[39m\u001b[32m, line 9\u001b[39m\n\u001b[32m      2\u001b[39m sys.path.append(\u001b[33m'\u001b[39m\u001b[33m..\u001b[39m\u001b[33m'\u001b[39m)\n\u001b[32m      4\u001b[39m \u001b[38;5;28;01mfrom\u001b[39;00m\u001b[38;5;250m \u001b[39m\u001b[34;01msrc\u001b[39;00m\u001b[34;01m.\u001b[39;00m\u001b[34;01mutils\u001b[39;00m\u001b[34;01m.\u001b[39;00m\u001b[34;01mpreprocessing\u001b[39;00m\u001b[38;5;250m \u001b[39m\u001b[38;5;28;01mimport\u001b[39;00m (\n\u001b[32m      5\u001b[39m     prepare_mitbih, \n\u001b[32m      6\u001b[39m     prepare_ptbdb,\n\u001b[32m      7\u001b[39m     resample_training\n\u001b[32m      8\u001b[39m )\n\u001b[32m----> \u001b[39m\u001b[32m9\u001b[39m \u001b[38;5;28;01mfrom\u001b[39;00m\u001b[38;5;250m \u001b[39m\u001b[34;01msrc\u001b[39;00m\u001b[34;01m.\u001b[39;00m\u001b[34;01mutils\u001b[39;00m\u001b[34;01m.\u001b[39;00m\u001b[34;01mvisualization\u001b[39;00m\u001b[38;5;250m \u001b[39m\u001b[38;5;28;01mimport\u001b[39;00m plot_confusion_matrix\n\u001b[32m     10\u001b[39m \u001b[38;5;28;01mimport\u001b[39;00m\u001b[38;5;250m \u001b[39m\u001b[34;01mpandas\u001b[39;00m\u001b[38;5;250m \u001b[39m\u001b[38;5;28;01mas\u001b[39;00m\u001b[38;5;250m \u001b[39m\u001b[34;01mpd\u001b[39;00m\n\u001b[32m     12\u001b[39m \u001b[38;5;28;01mfrom\u001b[39;00m\u001b[38;5;250m \u001b[39m\u001b[34;01msklearn\u001b[39;00m\u001b[34;01m.\u001b[39;00m\u001b[34;01mpreprocessing\u001b[39;00m\u001b[38;5;250m \u001b[39m\u001b[38;5;28;01mimport\u001b[39;00m StandardScaler\n",
            "\u001b[31mModuleNotFoundError\u001b[39m: No module named 'src.utils.visualization'"
          ]
        }
      ],
      "source": [
        "import sys\n",
        "sys.path.append('..')\n",
        "\n",
        "from src.utils.preprocessing import (\n",
        "    prepare_mitbih, \n",
        "    prepare_ptbdb,\n",
        "    resample_training\n",
        ")\n",
        "from src.utils.visualization import plot_confusion_matrix\n",
        "import pandas as pd\n",
        "\n",
        "from sklearn.preprocessing import StandardScaler\n",
        "from sklearn.metrics import accuracy_score, precision_recall_fscore_support, confusion_matrix\n",
        "import numpy as np"
      ]
    },
    {
      "cell_type": "code",
      "execution_count": 18,
      "metadata": {},
      "outputs": [],
      "source": [
        "# Helpers\n",
        "\n",
        "def eval_model(model, X_tr, y_tr, X_va, y_va, X_te, y_te):\n",
        "    model.fit(X_tr, y_tr)\n",
        "    yv = model.predict(X_va)\n",
        "    yt = model.predict(X_te)\n",
        "\n",
        "    acc_v = accuracy_score(y_va, yv)\n",
        "    p_v, r_v, f1_v, _ = precision_recall_fscore_support(y_va, yv, average='macro', zero_division=0)\n",
        "    cm_v = confusion_matrix(y_va, yv)\n",
        "\n",
        "    acc_t = accuracy_score(y_te, yt)\n",
        "    p_t, r_t, f1_t, _ = precision_recall_fscore_support(y_te, yt, average='macro', zero_division=0)\n",
        "    cm_t = confusion_matrix(y_te, yt)\n",
        "\n",
        "    # using macro averages to account for class imbalance\n",
        "    return {\n",
        "        'val': {'accuracy': acc_v, 'precision_macro': p_v, 'recall_macro': r_v, 'f1_macro': f1_v, 'confusion_matrix': cm_v},\n",
        "        'test': {'accuracy': acc_t, 'precision_macro': p_t, 'recall_macro': r_t, 'f1_macro': f1_t, 'confusion_matrix': cm_t},\n",
        "    }\n",
        "\n",
        "results = {}\n"
      ]
    },
    {
      "cell_type": "code",
      "execution_count": 15,
      "metadata": {},
      "outputs": [
        {
          "name": "stdout",
          "output_type": "stream",
          "text": [
            "MITBIH dataset prepared:\n",
            "  Training size: (78798, 187)\n",
            "  Validation size: (8756, 187)\n",
            "  Test size: (21892, 187)\n",
            "\n",
            "PTBDB dataset prepared:\n",
            "  Training size: (10472, 187)\n",
            "  Validation size: (1164, 187)\n",
            "  Test size: (2909, 187)\n"
          ]
        }
      ],
      "source": [
        "# Prepare datasets\n",
        "mitbih = prepare_mitbih(remove_outliers=False)\n",
        "ptbdb = prepare_ptbdb(remove_outliers=False)\n",
        "\n",
        "print(\"MITBIH dataset prepared:\")\n",
        "print(f\"  Training size: {mitbih.X_train.shape}\")\n",
        "print(f\"  Validation size: {mitbih.X_val.shape if mitbih.X_val is not None else 'None'}\")\n",
        "print(f\"  Test size: {mitbih.X_test.shape if mitbih.X_test is not None else 'None'}\")\n",
        "\n",
        "print(\"\\nPTBDB dataset prepared:\")\n",
        "print(f\"  Training size: {ptbdb.X_train.shape}\")\n",
        "print(f\"  Validation size: {ptbdb.X_val.shape if ptbdb.X_val is not None else 'None'}\")\n",
        "print(f\"  Test size: {ptbdb.X_test.shape if ptbdb.X_test is not None else 'None'}\")"
      ]
    },
    {
      "cell_type": "markdown",
      "metadata": {},
      "source": [
        "## Load Data"
      ]
    },
    {
      "cell_type": "code",
      "execution_count": 16,
      "metadata": {},
      "outputs": [],
      "source": [
        "X_train, X_val, X_test = mitbih.X_train.values, mitbih.X_val.values, mitbih.X_test.values\n",
        "y_train = mitbih.y_train.astype(int).values\n",
        "y_val = mitbih.y_val.astype(int).values\n",
        "y_test = mitbih.y_test.astype(int).values\n",
        "\n",
        "# Scale features using train fit only\n",
        "scaler = StandardScaler()\n",
        "X_train_s = scaler.fit_transform(X_train)\n",
        "X_val_s = scaler.transform(X_val)\n",
        "X_test_s = scaler.transform(X_test)\n"
      ]
    },
    {
      "cell_type": "markdown",
      "metadata": {},
      "source": [
        "## Test models with Randomized Search CV"
      ]
    },
    {
      "cell_type": "code",
      "execution_count": 17,
      "metadata": {},
      "outputs": [
        {
          "data": {
            "text/plain": [
              "{'val': {'accuracy': 0.917428049337597,\n",
              "  'precision_macro': 0.7980497177958749,\n",
              "  'recall_macro': 0.6053252190815922,\n",
              "  'f1_macro': 0.6716911485314008,\n",
              "  'confusion_matrix': array([[7121,   18,   90,    1,   18],\n",
              "         [ 108,  105,    7,    1,    1],\n",
              "         [ 352,    5,  202,    9,   11],\n",
              "         [  39,    0,    5,   20,    0],\n",
              "         [  51,    1,    6,    0,  585]])},\n",
              " 'test': {'accuracy': 0.9151288141786954,\n",
              "  'precision_macro': 0.7908156208229149,\n",
              "  'recall_macro': 0.5959543230646045,\n",
              "  'f1_macro': 0.6635732728702419,\n",
              "  'confusion_matrix': array([[17847,    35,   194,     8,    34],\n",
              "         [  295,   233,    26,     1,     1],\n",
              "         [  894,    15,   480,    32,    27],\n",
              "         [   95,     0,     8,    59,     0],\n",
              "         [  174,     1,    18,     0,  1415]])}}"
            ]
          },
          "execution_count": 17,
          "metadata": {},
          "output_type": "execute_result"
        }
      ],
      "source": [
        "# Logistic Regression (multinomial)\n",
        "from sklearn.linear_model import LogisticRegression\n",
        "\n",
        "logreg = LogisticRegression(max_iter=10000, multi_class='multinomial', solver='lbfgs')\n",
        "results['LogisticRegression'] = eval_model(\n",
        "    logreg,\n",
        "    X_train_s, y_train,\n",
        "    X_val_s, y_val,\n",
        "    X_test_s, y_test,\n",
        ")\n",
        "\n",
        "results['LogisticRegression']\n"
      ]
    },
    {
      "cell_type": "code",
      "execution_count": null,
      "metadata": {},
      "outputs": [],
      "source": [
        "plot_confusion_matrix(results['LogisticRegression']['test']['confusion_matrix'], \n",
        "                      classes=[0,1,2,3,4], \n",
        "                      title='Logistic Regression - Test Set Confusion Matrix', \n",
        "                      normalize=True)"
      ]
    },
    {
      "cell_type": "code",
      "execution_count": 19,
      "metadata": {},
      "outputs": [
        {
          "data": {
            "text/plain": [
              "{'val': {'accuracy': 0.9744175422567383,\n",
              "  'precision_macro': 0.9198913453303005,\n",
              "  'recall_macro': 0.8393863390503522,\n",
              "  'f1_macro': 0.8749828513027905,\n",
              "  'confusion_matrix': array([[7204,   17,   20,    4,    3],\n",
              "         [  69,  146,    6,    0,    1],\n",
              "         [  59,    0,  512,    7,    1],\n",
              "         [  12,    0,    8,   44,    0],\n",
              "         [  14,    0,    3,    0,  626]])},\n",
              " 'test': {'accuracy': 0.9725470491503746,\n",
              "  'precision_macro': 0.9114463065990963,\n",
              "  'recall_macro': 0.8207111591423262,\n",
              "  'f1_macro': 0.8602976534726728,\n",
              "  'confusion_matrix': array([[18017,    38,    51,     8,     4],\n",
              "         [  194,   351,    11,     0,     0],\n",
              "         [  132,     3,  1285,    25,     3],\n",
              "         [   41,     0,    18,   103,     0],\n",
              "         [   62,     1,    10,     0,  1535]])}}"
            ]
          },
          "execution_count": 19,
          "metadata": {},
          "output_type": "execute_result"
        }
      ],
      "source": [
        "# KNN\n",
        "from sklearn.neighbors import KNeighborsClassifier\n",
        "\n",
        "knn = KNeighborsClassifier(n_neighbors=5)\n",
        "results['KNN'] = eval_model(\n",
        "    knn,\n",
        "    X_train_s, y_train,\n",
        "    X_val_s, y_val,\n",
        "    X_test_s, y_test,\n",
        ")\n",
        "\n",
        "results['KNN']\n"
      ]
    },
    {
      "cell_type": "code",
      "execution_count": 20,
      "metadata": {},
      "outputs": [
        {
          "data": {
            "text/plain": [
              "{'val': {'accuracy': 0.9749885792599361,\n",
              "  'precision_macro': 0.9553214859683177,\n",
              "  'recall_macro': 0.8080214011107666,\n",
              "  'f1_macro': 0.8667295730141362,\n",
              "  'confusion_matrix': array([[7228,    6,   10,    1,    3],\n",
              "         [  84,  135,    2,    0,    1],\n",
              "         [  59,    1,  514,    3,    2],\n",
              "         [  18,    0,    9,   37,    0],\n",
              "         [  18,    0,    2,    0,  623]])},\n",
              " 'test': {'accuracy': 0.9737346976064316,\n",
              "  'precision_macro': 0.963985119115103,\n",
              "  'recall_macro': 0.8069288529747572,\n",
              "  'f1_macro': 0.8702969780342661,\n",
              "  'confusion_matrix': array([[18102,     4,     9,     0,     3],\n",
              "         [  224,   330,     1,     0,     1],\n",
              "         [  161,     0,  1269,    13,     5],\n",
              "         [   50,     0,    11,   101,     0],\n",
              "         [   88,     0,     5,     0,  1515]])}}"
            ]
          },
          "execution_count": 20,
          "metadata": {},
          "output_type": "execute_result"
        }
      ],
      "source": [
        "# Random Forest\n",
        "from sklearn.ensemble import RandomForestClassifier\n",
        "\n",
        "rf = RandomForestClassifier(n_estimators=200, random_state=42, n_jobs=-1)\n",
        "results['RandomForest'] = eval_model( # using unscaled data - RF is not sensitive to feature scaling\n",
        "    rf, \n",
        "    X_train, y_train,\n",
        "    X_val, y_val,\n",
        "    X_test, y_test,\n",
        ")\n",
        "\n",
        "results['RandomForest']\n"
      ]
    },
    {
      "cell_type": "code",
      "execution_count": 21,
      "metadata": {},
      "outputs": [
        {
          "data": {
            "text/plain": [
              "{'val': {'accuracy': 0.9716765646413887,\n",
              "  'precision_macro': 0.9351555769656905,\n",
              "  'recall_macro': 0.7928834068797076,\n",
              "  'f1_macro': 0.8505421809238356,\n",
              "  'confusion_matrix': array([[7223,   11,   13,    0,    1],\n",
              "         [  86,  132,    4,    0,    0],\n",
              "         [  61,    0,  510,    7,    1],\n",
              "         [  22,    0,    7,   35,    0],\n",
              "         [  32,    0,    3,    0,  608]])},\n",
              " 'test': {'accuracy': 0.9686186734880322,\n",
              "  'precision_macro': 0.9314371340040462,\n",
              "  'recall_macro': 0.7738490927628444,\n",
              "  'f1_macro': 0.8368317611472428,\n",
              "  'confusion_matrix': array([[18083,    12,    19,     1,     3],\n",
              "         [  238,   311,     7,     0,     0],\n",
              "         [  162,     1,  1256,    25,     4],\n",
              "         [   67,     0,     9,    86,     0],\n",
              "         [  130,     0,     9,     0,  1469]])}}"
            ]
          },
          "execution_count": 21,
          "metadata": {},
          "output_type": "execute_result"
        }
      ],
      "source": [
        "# SVM (RBF kernel)\n",
        "from sklearn.svm import SVC\n",
        "\n",
        "svm = SVC(kernel='rbf', C=1.0, gamma='scale', decision_function_shape='ovr')\n",
        "results['SVM'] = eval_model(\n",
        "    svm,\n",
        "    X_train_s, y_train,\n",
        "    X_val_s, y_val,\n",
        "    X_test_s, y_test,\n",
        ")\n",
        "\n",
        "results['SVM']\n"
      ]
    },
    {
      "cell_type": "code",
      "execution_count": 23,
      "metadata": {},
      "outputs": [
        {
          "data": {
            "text/html": [
              "<div>\n",
              "<style scoped>\n",
              "    .dataframe tbody tr th:only-of-type {\n",
              "        vertical-align: middle;\n",
              "    }\n",
              "\n",
              "    .dataframe tbody tr th {\n",
              "        vertical-align: top;\n",
              "    }\n",
              "\n",
              "    .dataframe thead th {\n",
              "        text-align: right;\n",
              "    }\n",
              "</style>\n",
              "<table border=\"1\" class=\"dataframe\">\n",
              "  <thead>\n",
              "    <tr style=\"text-align: right;\">\n",
              "      <th></th>\n",
              "      <th>model</th>\n",
              "      <th>val_accuracy</th>\n",
              "      <th>val_f1_macro</th>\n",
              "      <th>test_accuracy</th>\n",
              "      <th>test_f1_macro</th>\n",
              "    </tr>\n",
              "  </thead>\n",
              "  <tbody>\n",
              "    <tr>\n",
              "      <th>0</th>\n",
              "      <td>KNN</td>\n",
              "      <td>0.974418</td>\n",
              "      <td>0.874983</td>\n",
              "      <td>0.972547</td>\n",
              "      <td>0.860298</td>\n",
              "    </tr>\n",
              "    <tr>\n",
              "      <th>1</th>\n",
              "      <td>RandomForest</td>\n",
              "      <td>0.974989</td>\n",
              "      <td>0.866730</td>\n",
              "      <td>0.973735</td>\n",
              "      <td>0.870297</td>\n",
              "    </tr>\n",
              "    <tr>\n",
              "      <th>2</th>\n",
              "      <td>SVM</td>\n",
              "      <td>0.971677</td>\n",
              "      <td>0.850542</td>\n",
              "      <td>0.968619</td>\n",
              "      <td>0.836832</td>\n",
              "    </tr>\n",
              "  </tbody>\n",
              "</table>\n",
              "</div>"
            ],
            "text/plain": [
              "          model  val_accuracy  val_f1_macro  test_accuracy  test_f1_macro\n",
              "0           KNN      0.974418      0.874983       0.972547       0.860298\n",
              "1  RandomForest      0.974989      0.866730       0.973735       0.870297\n",
              "2           SVM      0.971677      0.850542       0.968619       0.836832"
            ]
          },
          "execution_count": 23,
          "metadata": {},
          "output_type": "execute_result"
        }
      ],
      "source": [
        "# Compare models (macro-averaged)\n",
        "import pandas as pd\n",
        "\n",
        "rows = []\n",
        "for name, res in results.items():\n",
        "    rows.append({\n",
        "        'model': name,\n",
        "        'val_accuracy': res['val']['accuracy'],\n",
        "        'val_f1_macro': res['val']['f1_macro'],\n",
        "        'test_accuracy': res['test']['accuracy'],\n",
        "        'test_f1_macro': res['test']['f1_macro'],\n",
        "    })\n",
        "\n",
        "comparison_df = pd.DataFrame(rows).sort_values(by=['val_f1_macro','test_f1_macro'], ascending=False).reset_index(drop=True)\n",
        "comparison_df\n"
      ]
    }
  ],
  "metadata": {
    "kernelspec": {
      "display_name": ".venv",
      "language": "python",
      "name": "python3"
    },
    "language_info": {
      "codemirror_mode": {
        "name": "ipython",
        "version": 3
      },
      "file_extension": ".py",
      "mimetype": "text/x-python",
      "name": "python",
      "nbconvert_exporter": "python",
      "pygments_lexer": "ipython3",
      "version": "3.11.9"
    }
  },
  "nbformat": 4,
  "nbformat_minor": 2
}
